{
 "cells": [
  {
   "cell_type": "code",
   "execution_count": null,
   "id": "e6c900b5-b3d3-4cf0-8d1b-501670057ba6",
   "metadata": {},
   "outputs": [
    {
     "name": "stderr",
     "output_type": "stream",
     "text": [
      "Map: 100%|████████████████████████████████████████████████████████████████| 5482/5482 [00:02<00:00, 2020.06 examples/s]\n"
     ]
    },
    {
     "data": {
      "text/html": [
       "\n",
       "    <div>\n",
       "      \n",
       "      <progress value='42' max='8223' style='width:300px; height:20px; vertical-align: middle;'></progress>\n",
       "      [  42/8223 4:52:02 < 995:30:40, 0.00 it/s, Epoch 0.01/3]\n",
       "    </div>\n",
       "    <table border=\"1\" class=\"dataframe\">\n",
       "  <thead>\n",
       " <tr style=\"text-align: left;\">\n",
       "      <th>Epoch</th>\n",
       "      <th>Training Loss</th>\n",
       "      <th>Validation Loss</th>\n",
       "    </tr>\n",
       "  </thead>\n",
       "  <tbody>\n",
       "  </tbody>\n",
       "</table><p>"
      ],
      "text/plain": [
       "<IPython.core.display.HTML object>"
      ]
     },
     "metadata": {},
     "output_type": "display_data"
    }
   ],
   "source": [
    "import os\n",
    "import re\n",
    "import pdfplumber\n",
    "from datasets import Dataset\n",
    "from transformers import GPTNeoForCausalLM, GPT2Tokenizer, TrainingArguments, Trainer\n",
    "\n",
    "# Function to extract and split text from specific PDF pages\n",
    "def extract_and_split_text(pdf_path):\n",
    "    rules_text = \"\"\n",
    "    glossary_text = \"\"\n",
    "    with pdfplumber.open(pdf_path) as pdf:\n",
    "        for page in pdf.pages[4:241]:  # Extract rules from pages 5 to 241\n",
    "            if page.extract_text():\n",
    "                rules_text += ' ' + page.extract_text()\n",
    "        for page in pdf.pages[241:291]:  # Optionally extract glossary from pages 242 to 291\n",
    "            if page.extract_text():\n",
    "                glossary_text += ' ' + page.extract_text()\n",
    "\n",
    "    # Split rules and glossary using regular expressions\n",
    "    rules = re.split(r'(?=\\d+\\.\\d+[a-z]*\\.)', rules_text)\n",
    "    glossary_entries = re.split(r'\\n(?=[A-Z])', glossary_text)\n",
    "    \n",
    "    return [rule.strip() for rule in rules if rule.strip() != ''], [entry.strip() for entry in glossary_entries if entry.strip() != '']\n",
    "\n",
    "# Extracting and splitting rules and glossary text from PDF\n",
    "rules, glossary = extract_and_split_text('data/raw/mtg_comp_rules.pdf')\n",
    "\n",
    "# Prepare the dataset\n",
    "data = {\"text\": [f\"Explain the rule: {rule}\" for rule in rules]}\n",
    "processed_glossary = [entry.split('\\n')[0] for entry in glossary]\n",
    "data[\"text\"].extend([f\"Define the term: {term}\" for term in processed_glossary])\n",
    "dataset = Dataset.from_dict(data)\n",
    "\n",
    "# Define the model name for GPT-Neo and tokenizer\n",
    "model_name = \"EleutherAI/gpt-neo-2.7B\"\n",
    "\n",
    "# Load tokenizer and model, set padding token\n",
    "tokenizer = GPT2Tokenizer.from_pretrained(model_name)\n",
    "if tokenizer.pad_token is None:\n",
    "    tokenizer.pad_token = tokenizer.eos_token  # Use eos_token if pad_token is not set\n",
    "\n",
    "# Tokenize the dataset and include labels\n",
    "def tokenize_function(examples):\n",
    "    model_inputs = tokenizer(examples[\"text\"], padding=\"max_length\", truncation=True, max_length=512)\n",
    "    model_inputs[\"labels\"] = model_inputs[\"input_ids\"].copy()\n",
    "    return model_inputs\n",
    "\n",
    "tokenized_datasets = dataset.map(tokenize_function, batched=True)\n",
    "\n",
    "# Load the model\n",
    "model = GPTNeoForCausalLM.from_pretrained(model_name)\n",
    "\n",
    "# Training arguments\n",
    "training_args = TrainingArguments(\n",
    "    output_dir=\"./results\",\n",
    "    eval_strategy=\"epoch\",  # Updated from 'evaluation_strategy'\n",
    "    learning_rate=2e-5,\n",
    "    per_device_train_batch_size=2,\n",
    "    per_device_eval_batch_size=2,\n",
    "    num_train_epochs=3,\n",
    "    weight_decay=0.01,\n",
    "    save_strategy=\"epoch\",\n",
    "    logging_dir='./logs',\n",
    "    report_to=\"none\"\n",
    ")\n",
    "\n",
    "# Set up the trainer with the corrected dataset\n",
    "trainer = Trainer(\n",
    "    model=model,\n",
    "    args=training_args,\n",
    "    train_dataset=tokenized_datasets,\n",
    "    tokenizer=tokenizer\n",
    ")\n",
    "\n",
    "# Train the model\n",
    "trainer.train()\n",
    "\n",
    "# Save the fine-tuned model\n",
    "model.save_pretrained(\"models/fine_tuned_model\")"
   ]
  },
  {
   "cell_type": "code",
   "execution_count": null,
   "id": "9a15ed11-2d96-423b-9c44-91051d90a0c5",
   "metadata": {},
   "outputs": [],
   "source": []
  },
  {
   "cell_type": "code",
   "execution_count": null,
   "id": "7ce8ecf6-f7fb-4a46-80b8-4af16cea5fe6",
   "metadata": {},
   "outputs": [],
   "source": []
  },
  {
   "cell_type": "code",
   "execution_count": null,
   "id": "71d7a165-313f-4186-87ef-4be018c13f44",
   "metadata": {},
   "outputs": [],
   "source": []
  }
 ],
 "metadata": {
  "kernelspec": {
   "display_name": "Python (mtg_ai)",
   "language": "python",
   "name": "mtg_ai"
  },
  "language_info": {
   "codemirror_mode": {
    "name": "ipython",
    "version": 3
   },
   "file_extension": ".py",
   "mimetype": "text/x-python",
   "name": "python",
   "nbconvert_exporter": "python",
   "pygments_lexer": "ipython3",
   "version": "3.8.19"
  }
 },
 "nbformat": 4,
 "nbformat_minor": 5
}
